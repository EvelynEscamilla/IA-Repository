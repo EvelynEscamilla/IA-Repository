{
 "cells": [
  {
   "cell_type": "markdown",
   "metadata": {},
   "source": [
    "# Transcrioción de vídeo: Video a Audio\n",
    "\n",
    "Este código permite convertir un archivo de video en un archivo de audio MP3 utilizando la biblioteca pydub."
   ]
  },
  {
   "cell_type": "markdown",
   "metadata": {},
   "source": [
    "pydub: Biblioteca para manipulación de audio. Aquí se utiliza para convertir un archivo de video en un archivo de audio.\n",
    "\n",
    "os: Biblioteca estándar de Python para interactuar con el sistema operativo (comprobación de rutas y creación de archivos)."
   ]
  },
  {
   "cell_type": "code",
   "execution_count": null,
   "metadata": {},
   "outputs": [],
   "source": [
    "from pydub import AudioSegment\n",
    "import os"
   ]
  },
  {
   "cell_type": "markdown",
   "metadata": {},
   "source": [
    "La función convert_video_to_audio toma dos argumentos:\n",
    "\n",
    "video_path: Ruta del archivo de video a convertir.\n",
    "\n",
    "output_path: Ruta donde se guardará el archivo MP3 convertido.\n",
    "\n",
    "\n",
    "AudioSegment.from_file:\n",
    "\n",
    "Carga el archivo de video (mp4) en un objeto de audio para procesarlo.\n",
    "\n",
    "\n",
    "os.path.join:\n",
    "\n",
    "Crea la ruta completa del archivo MP3 en la carpeta output_path.\n",
    "\n",
    "audio.export:\n",
    "\n",
    "Exporta el audio cargado en formato MP3 y lo guarda en la ubicación especificada (mp3_file).\n",
    "\n",
    "\n"
   ]
  },
  {
   "cell_type": "code",
   "execution_count": null,
   "metadata": {},
   "outputs": [],
   "source": [
    "def convert_video_to_audio(video_path: str, output_path: str):\n",
    "    try:\n",
    "        print(\"Convirtiendo video a MP3...\")\n",
    "\n",
    "        if not os.path.exists(video_path):\n",
    "            print(\"El archivo de video no existe.\")\n",
    "            return\n",
    "\n",
    "        audio = AudioSegment.from_file(video_path, format=\"mp4\")\n",
    "        \n",
    "        mp3_file = os.path.join(output_path, \"audio.mp3\")\n",
    "        audio.export(mp3_file, format=\"mp3\")\n",
    "        \n",
    "        print(f\"Audio extraído y guardado como {mp3_file}\")\n",
    "    except Exception as e:\n",
    "        print(f\"Ocurrió un error: {e}\")"
   ]
  },
  {
   "cell_type": "markdown",
   "metadata": {},
   "source": [
    "video_path: Especifica la ruta del archivo de video a convertir. En este caso, se encuentra en la carpeta de descargas del usuario.\n",
    "\n",
    "output_path: Indica la carpeta donde se guardará el archivo MP3. El valor \".\" significa que se guardará en el directorio actual.\n",
    "\n",
    "La función convert_video_to_audio se llama con estos argumentos cuando se ejecuta el script directamente."
   ]
  },
  {
   "cell_type": "code",
   "execution_count": null,
   "metadata": {},
   "outputs": [],
   "source": [
    "if __name__ == \"__main__\":\n",
    "    video_path = \"C:/Users/ShiEu/Downloads/Estos son los puntos más importantes de la Reforma Judicial - Despierta.mp4\"  \n",
    "    output_path = \".\" \n",
    "    convert_video_to_audio(video_path, output_path)"
   ]
  }
 ],
 "metadata": {
  "language_info": {
   "name": "python"
  }
 },
 "nbformat": 4,
 "nbformat_minor": 2
}
