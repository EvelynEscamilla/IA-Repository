{
 "cells": [
  {
   "cell_type": "markdown",
   "metadata": {},
   "source": [
    "# Web Scrapping en twitter/X\n",
    "\n",
    "Este código permite buscar tweets relacionados con una palabra clave específica utilizando la API de Twitter."
   ]
  },
  {
   "cell_type": "markdown",
   "metadata": {},
   "source": [
    "tweepy: Biblioteca para interactuar con la API de Twitter.\n",
    "\n",
    "pandas: Usada para manipular y analizar datos tabulares (como los tweets descargados)."
   ]
  },
  {
   "cell_type": "code",
   "execution_count": null,
   "metadata": {},
   "outputs": [],
   "source": [
    "import tweepy\n",
    "import pandas as pd\n",
    "import matplotlib.pyplot as plt\n",
    "from textblob import TextBlob"
   ]
  },
  {
   "cell_type": "markdown",
   "metadata": {},
   "source": [
    "Estas son las credenciales de acceso a la API de Twitter."
   ]
  },
  {
   "cell_type": "code",
   "execution_count": null,
   "metadata": {},
   "outputs": [],
   "source": [
    "API_KEY = 'Kwt3OMhgmm80w5f0dnWGx1Lxw'\n",
    "API_SECRET = 'vlCgfZitIRE0fzDAsfAZOUhVdY61qUTSWSganmoSeKZZV85yTc'\n",
    "BEARER_TOKEN = 'AAAAAAAAAAAAAAAAAAAAAAT2xQEAAAAAiIPZds3FG9frc4ehwZ7IR6T2pZk%3DTGWZmFIti64nWImDgu21nBIYbvkEAG5t2zYp7G9ldD1yNac13L'"
   ]
  },
  {
   "cell_type": "markdown",
   "metadata": {},
   "source": [
    "Se crea un cliente de Twitter utilizando el BEARER_TOKEN. Esto nos permite hacer solicitudes como buscar tweets."
   ]
  },
  {
   "cell_type": "code",
   "execution_count": null,
   "metadata": {},
   "outputs": [],
   "source": [
    "client = tweepy.Client(bearer_token=BEARER_TOKEN)"
   ]
  },
  {
   "cell_type": "markdown",
   "metadata": {},
   "source": [
    "Parámetros:\n",
    "query: Palabra clave o consulta para buscar tweets.\n",
    "\n",
    "max_tweets: Número máximo de tweets a recuperar (máximo permitido por solicitud: 100).\n",
    "\n",
    "Flujo:\n",
    "\n",
    "Se realiza una búsqueda reciente con client.search_recent_tweets.\n",
    "\n",
    "Si hay resultados (response.data), se agrega el texto del tweet a la lista tweets.\n",
    "\n",
    "Si ocurre un error durante la solicitud, se imprime el mensaje de error."
   ]
  },
  {
   "cell_type": "code",
   "execution_count": null,
   "metadata": {},
   "outputs": [],
   "source": [
    "def buscar_tweets(query, max_tweets=100):\n",
    "    tweets = []\n",
    "    try:\n",
    "        response = client.search_recent_tweets(\n",
    "            query=query,\n",
    "            tweet_fields=[\"text\"],\n",
    "            max_results=min(max_tweets, 100)\n",
    "        )\n",
    "        if response.data:\n",
    "            for tweet in response.data:\n",
    "                tweets.append(tweet.text)\n",
    "    except tweepy.TweepyException as e:\n",
    "        print(f\"Error: {e}\")\n",
    "    return tweets"
   ]
  },
  {
   "cell_type": "markdown",
   "metadata": {},
   "source": [
    "Busca tweets sobre el tema \"reforma judicial México\".\n",
    "\n",
    "Si se encuentran resultados:\n",
    "\n",
    "    -Crea un DataFrame de Pandas con los textos de los tweets.\n",
    "    -Muestra los primeros 10 tweets en pantalla.\n",
    "    -Guarda los tweets en un archivo CSV llamado tweets_texto.csv.\n",
    "    -Si no hay resultados, muestra un mensaje indicando que no se encontraron tweets."
   ]
  },
  {
   "cell_type": "code",
   "execution_count": null,
   "metadata": {},
   "outputs": [],
   "source": [
    "\n",
    "def main():\n",
    "    palabra_clave = \"reforma judicial México\"\n",
    "    resultados = buscar_tweets(palabra_clave, max_tweets=50)\n",
    "    \n",
    "    if resultados:\n",
    "        df = pd.DataFrame(resultados, columns=[\"Texto del Tweet\"])\n",
    "        print(\"Primeros resultados:\")\n",
    "        print(df.head(10))\n",
    "        \n",
    "        df.to_csv(\"tweets_texto.csv\", index=False)\n",
    "    else:\n",
    "        print(\"No se encontraron tweets.\")\n",
    "\n",
    "if __name__ == \"__main__\":\n",
    "    main()"
   ]
  }
 ],
 "metadata": {
  "language_info": {
   "name": "python"
  }
 },
 "nbformat": 4,
 "nbformat_minor": 2
}
