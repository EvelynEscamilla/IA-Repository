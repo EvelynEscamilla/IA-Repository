{
 "cells": [
  {
   "cell_type": "markdown",
   "metadata": {},
   "source": [
    "# Web Scrapping Google\n",
    "\n",
    "Este código utiliza las bibliotecas requests, BeautifulSoup, y json para buscar enlaces relacionados con \"reforma judicial México 2024\" en Google y guardarlos en un archivo JSON. "
   ]
  },
  {
   "cell_type": "markdown",
   "metadata": {},
   "source": [
    "requests: Se utiliza para hacer solicitudes HTTP y obtener el contenido de una página web.\n",
    "\n",
    "\n",
    "BeautifulSoup: Es una biblioteca para analizar documentos HTML y extraer información específica.\n",
    "\n",
    "\n",
    "json: Se usa para trabajar con datos en formato JSON, que permite guardar estructuras como listas o diccionarios en un archivo.\n",
    "\n",
    "\n",
    "urlparse y parse_qs: Ayudan a analizar y extraer parámetros de las URLs."
   ]
  },
  {
   "cell_type": "code",
   "execution_count": null,
   "metadata": {},
   "outputs": [],
   "source": [
    "import requests\n",
    "from bs4 import BeautifulSoup\n",
    "import json\n",
    "from urllib.parse import urlparse, parse_qs"
   ]
  },
  {
   "cell_type": "markdown",
   "metadata": {},
   "source": [
    "url: Especifica la URL de búsqueda en Google.\n",
    "\n",
    "\n",
    "headers: Incluye un encabezado User-Agent para que la solicitud se identifique como proveniente de un navegador y no sea bloqueada por Google."
   ]
  },
  {
   "cell_type": "code",
   "execution_count": null,
   "metadata": {},
   "outputs": [],
   "source": [
    "def obtener_links_reforma_judicial():\n",
    "    url = 'https://www.google.com/search?q=reforma+judicial+México+2024'\n",
    "    \n",
    "    headers = {\n",
    "        'User-Agent': 'Mozilla/5.0 (Windows NT 10.0; Win64; x64) AppleWebKit/537.36 (KHTML, like Gecko) Chrome/58.0.3029.110 Safari/537.3'\n",
    "    }"
   ]
  },
  {
   "cell_type": "markdown",
   "metadata": {},
   "source": [
    "requests.get(url, headers=headers): Realiza una solicitud GET a la URL de búsqueda con los encabezados especificados.\n",
    "\n",
    "\n",
    "response.status_code: Verifica si la solicitud fue exitosa (código 200) o si hubo un error.\n",
    "\n",
    "\n",
    "BeautifulSoup(response.text, 'html.parser'): Analiza el contenido HTML devuelto por la respuesta."
   ]
  },
  {
   "cell_type": "code",
   "execution_count": null,
   "metadata": {},
   "outputs": [],
   "source": [
    "response = requests.get(url, headers=headers)\n",
    "    if response.status_code != 200:\n",
    "        print(\"Error al hacer la solicitud, estado:\", response.status_code)\n",
    "        return []\n",
    "    \n",
    "    soup = BeautifulSoup(response.text, 'html.parser')"
   ]
  },
  {
   "cell_type": "markdown",
   "metadata": {},
   "source": [
    "soup.find_all('a', href=True): Busca todas las etiquetas a con un atributo href (enlaces).\n",
    "\n",
    "\n",
    "'/url?' in href: Filtra los enlaces que son redirecciones de Google.\n",
    "\n",
    "\n",
    "urlparse(href) y parse_qs(parsed_url.query): Extraen el enlace real de los parámetros de la URL.\n",
    "\n",
    "\n",
    "links.append(actual_url): Agrega el enlace real a la lista links.\n",
    "\n",
    "\n",
    "json.dump: Guarda la lista de enlaces en un archivo llamado enlaces_reforma_judicial.json.\n",
    "\n",
    "\n",
    "Usa ensure_ascii=False para manejar caracteres especiales como tildes y indent=4 para mejorar la legibilidad.\n",
    "\n",
    "\n",
    "Archivo enlaces_reforma_judicial.json:Contendrá una lista con los enlaces encontrados."
   ]
  },
  {
   "cell_type": "code",
   "execution_count": null,
   "metadata": {},
   "outputs": [],
   "source": [
    "links = []\n",
    "    for a_tag in soup.find_all('a', href=True):\n",
    "        href = a_tag['href']\n",
    "        \n",
    "        if '/url?' in href:\n",
    "            parsed_url = urlparse(href)\n",
    "            params = parse_qs(parsed_url.query)\n",
    "            actual_url = params.get('url', [None])[0]\n",
    "            \n",
    "            if actual_url:\n",
    "                links.append(actual_url)\n",
    "    \n",
    "    if links:\n",
    "        with open('enlaces_reforma_judicial.json', 'w', encoding='utf-8') as f:\n",
    "            json.dump(links, f, ensure_ascii=False, indent=4)\n",
    "        print(f\"Se han guardado {len(links)} enlaces en 'enlaces_reforma_judicial.json'\")\n",
    "    else:\n",
    "        print(\"No se encontraron enlaces.\")\n",
    "    \n",
    "    return links\n",
    "\n",
    "obtener_links_reforma_judicial()\n"
   ]
  }
 ],
 "metadata": {
  "language_info": {
   "name": "python"
  }
 },
 "nbformat": 4,
 "nbformat_minor": 2
}
