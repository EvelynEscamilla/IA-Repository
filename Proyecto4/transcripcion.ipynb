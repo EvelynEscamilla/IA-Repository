{
 "cells": [
  {
   "cell_type": "markdown",
   "metadata": {},
   "source": [
    "# Transcripción de video: Audio a Texto\n",
    "\n",
    "Este código utiliza la biblioteca whisper para transcribir un archivo de audio en texto y guardar el resultado en un archivo de texto. "
   ]
  },
  {
   "cell_type": "markdown",
   "metadata": {},
   "source": [
    "whisper: Es una biblioteca desarrollada por OpenAI para la transcripción y reconocimiento de voz. Aquí se usa para cargar un modelo preentrenado y realizar la transcripción de un archivo de audio."
   ]
  },
  {
   "cell_type": "code",
   "execution_count": null,
   "metadata": {},
   "outputs": [],
   "source": [
    "import whisper"
   ]
  },
  {
   "cell_type": "markdown",
   "metadata": {},
   "source": [
    "whisper.load_model(\"turbo\"):\n",
    "\n",
    "Carga el modelo preentrenado llamado \"turbo\". Whisper ofrece diferentes tamaños de modelos, desde pequeños hasta grandes, para equilibrar la precisión y el rendimiento."
   ]
  },
  {
   "cell_type": "code",
   "execution_count": null,
   "metadata": {},
   "outputs": [],
   "source": [
    "model = whisper.load_model(\"turbo\")"
   ]
  },
  {
   "cell_type": "markdown",
   "metadata": {},
   "source": [
    "model.transcribe(\"audio.mp3\"):\n",
    "\n",
    "Transcribe el archivo de audio especificado (audio.mp3) a texto, el resultado se devuelve como un diccionario con múltiples claves, incluyendo \"text\", que contiene el texto transcrito."
   ]
  },
  {
   "cell_type": "code",
   "execution_count": null,
   "metadata": {},
   "outputs": [],
   "source": [
    "result = model.transcribe(\"audio.mp3\")"
   ]
  },
  {
   "cell_type": "markdown",
   "metadata": {},
   "source": [
    "Extrae el texto transcrito del diccionario result usando la clave \"text\" y lo almacena en la variable transcription_text."
   ]
  },
  {
   "cell_type": "code",
   "execution_count": null,
   "metadata": {},
   "outputs": [],
   "source": [
    "transcription_text = result[\"text\"]"
   ]
  },
  {
   "cell_type": "markdown",
   "metadata": {},
   "source": [
    "open(\"transcription.txt\", \"w\"):\n",
    "\n",
    "Abre un archivo llamado transcription.txt en modo escritura (\"w\"), si el archivo no existe, lo crea; si ya existe, sobrescribe su contenido.\n",
    "\n",
    "\n",
    "\n",
    "file.write(transcription_text):\n",
    "\n",
    "Escribe el texto transcrito en el archivo."
   ]
  },
  {
   "cell_type": "code",
   "execution_count": null,
   "metadata": {},
   "outputs": [],
   "source": [
    "with open(\"transcription.txt\", \"w\") as file:\n",
    "    file.write(transcription_text)\n",
    "    \n",
    "print(\"La transcripción se ha guardado en 'transcription.txt'\")"
   ]
  }
 ],
 "metadata": {
  "language_info": {
   "name": "python"
  }
 },
 "nbformat": 4,
 "nbformat_minor": 2
}
