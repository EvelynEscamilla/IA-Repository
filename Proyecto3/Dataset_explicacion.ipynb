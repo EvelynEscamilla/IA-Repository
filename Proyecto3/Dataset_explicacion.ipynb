{
 "cells": [
  {
   "cell_type": "markdown",
   "metadata": {},
   "source": [
    "# Librerías\n",
    "\n",
    "os: Para manejar directorios y archivos.\n",
    "\n",
    "cv2: Librería OpenCV para procesamiento de imágenes.\n",
    "\n",
    "numpy: Para cálculos matemáticos y operaciones con matrices."
   ]
  },
  {
   "cell_type": "code",
   "execution_count": null,
   "metadata": {},
   "outputs": [],
   "source": [
    "import os\n",
    "import cv2\n",
    "import numpy as np"
   ]
  },
  {
   "cell_type": "markdown",
   "metadata": {},
   "source": [
    "# Funciones de Procesamiento de Imágenes\n",
    "\n",
    "Implementé algunas funciones para tratar las imagenes, por lo que de una imagen se generan varias versiones, se guarda la imagen original y su versión con cada filtro.\n",
    "\n",
    "La primera de ellas es para ajustar el brillo y contraste, consideré que sería bueno implementar esta función ya que podría ayudar a mejorar la generalización del modelo al exponerlo a imágenes con diferentes niveles de iluminación."
   ]
  },
  {
   "cell_type": "code",
   "execution_count": null,
   "metadata": {},
   "outputs": [],
   "source": [
    "def ajustar_brillo_contraste(frame, alpha=1.0, beta=0):\n",
    "    return cv2.convertScaleAbs(frame, alpha=alpha, beta=beta)"
   ]
  },
  {
   "cell_type": "markdown",
   "metadata": {},
   "source": [
    "Otra función es el recorte aleatorio, esto con la finalidad de extraer características específicas del coche, tomando en cuenta que en la imagenes podría salir solamente una parte del coche."
   ]
  },
  {
   "cell_type": "code",
   "execution_count": null,
   "metadata": {},
   "outputs": [],
   "source": [
    "def recortar_aleatoriamente(frame, porcentaje=0.1):\n",
    "    h, w = frame.shape[:2]\n",
    "    dy, dx = int(h * porcentaje), int(w * porcentaje)\n",
    "    x1, y1 = np.random.randint(0, dx), np.random.randint(0, dy)\n",
    "    return frame[y1:h - dy + y1, x1:w - dx + x1]"
   ]
  },
  {
   "cell_type": "markdown",
   "metadata": {},
   "source": [
    "Esta función de zoom es para simular diferentes distancias "
   ]
  },
  {
   "cell_type": "code",
   "execution_count": null,
   "metadata": {},
   "outputs": [],
   "source": [
    "def aplicar_zoom(frame, factor=1.2):\n",
    "    h, w = frame.shape[:2]\n",
    "    nh, nw = int(h / factor), int(w / factor)\n",
    "    frame_zoom = frame[(h - nh) // 2:(h + nh) // 2, (w - nw) // 2:(w + nw) // 2]\n",
    "    return cv2.resize(frame_zoom, (w, h))"
   ]
  },
  {
   "cell_type": "markdown",
   "metadata": {},
   "source": [
    "Esta versión de la imagen es para eliminar el ruido y que la imagen quede más clara."
   ]
  },
  {
   "cell_type": "code",
   "execution_count": null,
   "metadata": {},
   "outputs": [],
   "source": [
    "def eliminar_ruido(frame):\n",
    "    return cv2.fastNlMeansDenoisingColored(frame, None, 10, 10, 7, 21)"
   ]
  },
  {
   "cell_type": "markdown",
   "metadata": {},
   "source": [
    "Aquí se aplican los filtros blanco y negro, para ayudar en la parte de la detección de bordes y formas, rgb para ayudar a la clasificación de coches de acuerdo a los patrones de color y el filtro de escala de grises para el análisis de patrones y texturas."
   ]
  },
  {
   "cell_type": "code",
   "execution_count": null,
   "metadata": {},
   "outputs": [],
   "source": [
    "def aplicar_filtros_basicos(frame, filtro):\n",
    "    if filtro == \"blanco_negro\":\n",
    "        return cv2.cvtColor(frame, cv2.COLOR_BGR2GRAY)\n",
    "    elif filtro == \"rgb\":\n",
    "        return cv2.cvtColor(frame, cv2.COLOR_BGR2RGB)\n",
    "    elif filtro == \"escala_grises\":\n",
    "        gray = cv2.cvtColor(frame, cv2.COLOR_BGR2GRAY)\n",
    "        return cv2.merge([gray, gray, gray])\n",
    "    else:\n",
    "        return frame"
   ]
  },
  {
   "cell_type": "markdown",
   "metadata": {},
   "source": [
    "Aquí se rota la imagen en un rango de ángulos aleatorios y se redimensiona, además se aumenta la variación en las posiciones de los coches en las imágenes."
   ]
  },
  {
   "cell_type": "code",
   "execution_count": null,
   "metadata": {},
   "outputs": [],
   "source": [
    "def rotar_y_redimensionar(frame, angulo_max=30, tamaño=(128, 128)):\n",
    "    angulo = np.random.uniform(-angulo_max, angulo_max)\n",
    "    \n",
    "    h, w = frame.shape[:2]\n",
    "    centro = (w // 2, h // 2)\n",
    "    \n",
    "    matriz_rotacion = cv2.getRotationMatrix2D(centro, angulo, 1)\n",
    "    \n",
    "    imagen_rotada = cv2.warpAffine(frame, matriz_rotacion, (w, h), flags=cv2.INTER_LINEAR, borderMode=cv2.BORDER_CONSTANT, borderValue=(255, 255, 255))\n",
    "    \n",
    "    imagen_redimensionada = cv2.resize(imagen_rotada, tamaño)\n",
    "    \n",
    "    return imagen_redimensionada"
   ]
  },
  {
   "cell_type": "markdown",
   "metadata": {},
   "source": [
    "Se aplica rotaciones predefinidas de 15, 30, 45, 60 y 90 grados, útil para garantizar variaciones consistentes en el dataset."
   ]
  },
  {
   "cell_type": "code",
   "execution_count": null,
   "metadata": {},
   "outputs": [],
   "source": [
    "def rotar_varias_veces(frame, angulos=[15, 30, 45, 60, 90], tamaño=(128, 128)):\n",
    "    rotaciones = []\n",
    "    for angulo in angulos:\n",
    "        rotacion = rotar_y_redimensionar(frame, angulo_max=angulo, tamaño=tamaño)\n",
    "        rotaciones.append(rotacion)\n",
    "    return rotaciones"
   ]
  },
  {
   "cell_type": "markdown",
   "metadata": {},
   "source": [
    "Ajusta el tono y la saturación en el espacio de color HSV y simula condiciones de color ambiental (amanecer, atardecer, etc.).\n"
   ]
  },
  {
   "cell_type": "code",
   "execution_count": null,
   "metadata": {},
   "outputs": [],
   "source": [
    "def cambiar_tono_saturacion(frame, alpha=1.2, beta=50):\n",
    "    hsv = cv2.cvtColor(frame, cv2.COLOR_BGR2HSV)\n",
    "    hsv[..., 0] = hsv[..., 0] * alpha + beta \n",
    "    hsv[..., 1] = hsv[..., 1] * alpha         \n",
    "    return cv2.cvtColor(hsv, cv2.COLOR_HSV2BGR)"
   ]
  },
  {
   "cell_type": "markdown",
   "metadata": {},
   "source": [
    "Añade ruido de tipo \"sal y pimienta\" lo que simula imágenes con interferencias.\n",
    "\n",
    "El ruido de sal y pimienta es un tipo de ruido que se presenta en imágenes digitales, y se caracteriza por la aparición de píxeles blancos y negros dispersos por la imagen. Este efecto es similar al de esparcir sal y pimienta sobre la imagen.\n"
   ]
  },
  {
   "cell_type": "code",
   "execution_count": null,
   "metadata": {},
   "outputs": [],
   "source": [
    "def agregar_ruido_sal_pimienta(frame, cantidad=0.02):\n",
    "    h, w = frame.shape[:2]\n",
    "    salida = np.copy(frame)\n",
    "    num_pixeles = int(cantidad * h * w)\n",
    "    \n",
    "    for _ in range(num_pixeles):\n",
    "        x, y = np.random.randint(0, w), np.random.randint(0, h)\n",
    "        salida[y, x] = np.random.choice([0, 255], size=3)\n",
    "    \n",
    "    return salida"
   ]
  },
  {
   "cell_type": "markdown",
   "metadata": {},
   "source": [
    "Aplica un desenfoque gaussiano para suavizar la imagen es útil para simular condiciones de enfoque o cámaras de baja calidad."
   ]
  },
  {
   "cell_type": "code",
   "execution_count": null,
   "metadata": {},
   "outputs": [],
   "source": [
    "def desenfoque_gaussiano(frame, kernel_size=(5, 5)):\n",
    "    return cv2.GaussianBlur(frame, kernel_size, 0)"
   ]
  },
  {
   "cell_type": "markdown",
   "metadata": {},
   "source": [
    "Aquí se aplica una escla de color y luego se realiza la versión espejo de cada imagen."
   ]
  },
  {
   "cell_type": "code",
   "execution_count": null,
   "metadata": {},
   "outputs": [],
   "source": [
    "def escala_color(frame, factor=1.0):\n",
    "    return cv2.convertScaleAbs(frame, alpha=factor, beta=0)\n",
    "\n",
    "def version_espejo(frame):\n",
    "    return cv2.flip(frame, 1)"
   ]
  },
  {
   "cell_type": "markdown",
   "metadata": {},
   "source": [
    "Aqupi se mandan a llamar las funciones de los filtros para crear las versiones de la imagen (también se aplica la versión espejo de cada versión de la imagen con disitinto filtro) y guardarlas en formato jpg."
   ]
  },
  {
   "cell_type": "code",
   "execution_count": null,
   "metadata": {},
   "outputs": [],
   "source": [
    "def generar_versiones(output_folder, base_name, frame):\n",
    "    transformaciones = {\n",
    "        \"rotacion_volteo\": lambda img: cv2.flip(cv2.rotate(img, cv2.ROTATE_180), 1),\n",
    "        \"brillo_contraste\": lambda img: ajustar_brillo_contraste(img, alpha=1.5, beta=30),\n",
    "        \"desplazamiento_zoom\": lambda img: aplicar_zoom(img, factor=1.3),\n",
    "        \"recorte\": lambda img: recortar_aleatoriamente(img, porcentaje=0.2),\n",
    "        \"eliminacion_ruido\": lambda img: eliminar_ruido(img),\n",
    "        \"filtro_bn\": lambda img: aplicar_filtros_basicos(img, \"blanco_negro\"),\n",
    "        \"filtro_rgb\": lambda img: aplicar_filtros_basicos(img, \"rgb\"),\n",
    "        \"filtro_grises\": lambda img: aplicar_filtros_basicos(img, \"escala_grises\"),\n",
    "        \"brillo_alto\": lambda img: ajustar_brillo_contraste(img, alpha=2.0, beta=50),\n",
    "        \"brillo_medio\": lambda img: ajustar_brillo_contraste(img, alpha=1.5, beta=25),\n",
    "        \"brillo_bajo\": lambda img: ajustar_brillo_contraste(img, alpha=0.8, beta=-30),\n",
    "        \"contraste_alto\": lambda img: ajustar_brillo_contraste(img, alpha=2.5, beta=0),\n",
    "        \"contraste_bajo\": lambda img: ajustar_brillo_contraste(img, alpha=0.5, beta=0),\n",
    "        \"rotacion_aleatoria\": lambda img: rotar_y_redimensionar(img),\n",
    "        \"rotaciones_adicionales\": lambda img: rotar_varias_veces(img),\n",
    "        \"cambiar_tono_saturacion\": lambda img: cambiar_tono_saturacion(img),\n",
    "        \"ruido_sal_pimienta\": lambda img: agregar_ruido_sal_pimienta(img),\n",
    "        \"desenfoque_gaussiano\": lambda img: desenfoque_gaussiano(img),\n",
    "        \"escala_color\": lambda img: escala_color(img),\n",
    "        \"espejo\": lambda img: version_espejo(img) \n",
    "    }\n",
    "\n",
    "    for nombre, transformacion in transformaciones.items():\n",
    "        img_transformada = transformacion(frame)\n",
    "        if isinstance(img_transformada, list): \n",
    "            for i, img in enumerate(img_transformada):\n",
    "                cv2.imwrite(f\"{output_folder}/{base_name}_{nombre}_{i}.jpg\", img)\n",
    "        else:\n",
    "            cv2.imwrite(f\"{output_folder}/{base_name}_{nombre}.jpg\", img_transformada)\n",
    "\n",
    "    frame_espejo = version_espejo(frame)\n",
    "\n",
    "    for nombre, transformacion in transformaciones.items():\n",
    "        img_transformada = transformacion(frame_espejo)\n",
    "        if isinstance(img_transformada, list):  \n",
    "            for i, img in enumerate(img_transformada):\n",
    "                cv2.imwrite(f\"{output_folder}/{base_name}_{nombre}_espejo_{i}.jpg\", img)\n",
    "        else:\n",
    "            cv2.imwrite(f\"{output_folder}/{base_name}_{nombre}_espejo.jpg\", img_transformada)"
   ]
  },
  {
   "cell_type": "markdown",
   "metadata": {},
   "source": [
    "Aqupi, creamos una carpeta para guardar el dataset en caso de que no exista y se leen las imagenes de una carpeta para posteriormente aplicarles los filtros anteriores-"
   ]
  },
  {
   "cell_type": "code",
   "execution_count": null,
   "metadata": {},
   "outputs": [],
   "source": [
    "def generar_dataset_imagenes(input_folder, output_folder, resolution=(128, 128)):\n",
    "    if not os.path.exists(output_folder):\n",
    "        os.makedirs(output_folder)\n",
    "\n",
    "    for img_name in os.listdir(input_folder):\n",
    "        img_path = os.path.join(input_folder, img_name)\n",
    "        if not os.path.isfile(img_path):\n",
    "            continue\n",
    "\n",
    "        frame = cv2.imread(img_path)\n",
    "        if frame is None:\n",
    "            print(f\"No se pudo leer la imagen: {img_name}\")\n",
    "            continue\n",
    "\n",
    "        frame_resized = cv2.resize(frame, resolution)\n",
    "\n",
    "        base_name, _ = os.path.splitext(img_name)\n",
    "        cv2.imwrite(f\"{output_folder}/{base_name}_original.jpg\", frame_resized)\n",
    "\n",
    "        generar_versiones(output_folder, base_name, frame_resized)\n",
    "        print(f\"Procesada la imagen: {img_name}\")\n",
    "\n",
    "    print(f\"Dataset generado en {output_folder}\")"
   ]
  },
  {
   "cell_type": "markdown",
   "metadata": {},
   "source": [
    "Por último, colocamos la ruta de la carpeta que contiene las imagenes a tratar, así como la carpeta donde se guarda el dataset."
   ]
  },
  {
   "cell_type": "code",
   "execution_count": null,
   "metadata": {},
   "outputs": [],
   "source": [
    "input_folder = \"C:/Users/ShiEu/Documents/9 Semestre/imagenes\"\n",
    "output_folder = \"C:/Users/ShiEu/Documents/dataset_coches\"\n",
    "\n",
    "generar_dataset_imagenes(input_folder, output_folder)"
   ]
  }
 ],
 "metadata": {
  "kernelspec": {
   "display_name": "Python 3 (ipykernel)",
   "language": "python",
   "name": "python3"
  },
  "language_info": {
   "codemirror_mode": {
    "name": "ipython",
    "version": 3
   },
   "file_extension": ".py",
   "mimetype": "text/x-python",
   "name": "python",
   "nbconvert_exporter": "python",
   "pygments_lexer": "ipython3",
   "version": "3.11.1"
  }
 },
 "nbformat": 4,
 "nbformat_minor": 4
}
